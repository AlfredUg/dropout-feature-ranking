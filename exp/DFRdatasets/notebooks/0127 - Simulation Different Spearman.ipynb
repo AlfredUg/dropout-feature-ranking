{
 "cells": [
  {
   "cell_type": "code",
   "execution_count": 2,
   "metadata": {
    "collapsed": true
   },
   "outputs": [],
   "source": [
    "%matplotlib inline\n",
    "import matplotlib.pyplot as plt\n",
    "import torch\n",
    "import numpy as np\n",
    "from scipy.stats import spearmanr\n",
    "import pandas as pd\n",
    "from exp.DFRdatasets.fig_utils import sum_all_container_by_filenames, plot_figs"
   ]
  },
  {
   "cell_type": "code",
   "execution_count": 38,
   "metadata": {
    "collapsed": true
   },
   "outputs": [],
   "source": [
    "gnd_truth_rank = np.zeros((40,))\n",
    "for i in range(0, 20, 4):\n",
    "    gnd_truth_rank[i:(i+4)] = (20 - i)"
   ]
  },
  {
   "cell_type": "code",
   "execution_count": 39,
   "metadata": {},
   "outputs": [
    {
     "data": {
      "text/plain": [
       "[<matplotlib.lines.Line2D at 0x7fa1b58c0828>]"
      ]
     },
     "execution_count": 39,
     "metadata": {},
     "output_type": "execute_result"
    },
    {
     "data": {
      "image/png": "[encoded data removed]",
      "text/plain": [
       "<matplotlib.figure.Figure at 0x7fa1b57dc7f0>"
      ]
     },
     "metadata": {},
     "output_type": "display_data"
    }
   ],
   "source": [
    "plt.plot(gnd_truth_rank)"
   ]
  },
  {
   "cell_type": "markdown",
   "metadata": {},
   "source": [
    "## More Interaction"
   ]
  },
  {
   "cell_type": "code",
   "execution_count": 73,
   "metadata": {
    "collapsed": true
   },
   "outputs": [],
   "source": [
    "gnd_truth_rank = np.zeros((60,))\n",
    "for i in range(0, 30, 3):\n",
    "    gnd_truth_rank[i:(i + 3)] = (30 - i)\n",
    "\n",
    "def create_df(from_features=0, top_features=60):\n",
    "    arr = []\n",
    "    methods = [\n",
    "        'nn_rank:0.01', 'nn_rank:0.05', 'nn_rank:0.1', 'nn_rank:0.5', 'nn_rank:1', \n",
    "        'rf_rank', 'enet_rank', 'zero_rank', 'shuffle_rank'\n",
    "    ]\n",
    "    for method in methods:\n",
    "        _, ranks = torch.load('../results/MoreInteractionSimulation/0111-%s-nn_test_zero.pth' % method)\n",
    "        arr.append([spearmanr(gnd_truth_rank[from_features:top_features], \n",
    "                              ranks[i][from_features:top_features]).correlation for i in range(5)])\n",
    "    df = pd.DataFrame(arr)\n",
    "    df.index = methods\n",
    "    df['mean_corr'] = (df[0] + df[1] + df[2] + df[3] + df[4]) / 5\n",
    "    return df"
   ]
  },
  {
   "cell_type": "code",
   "execution_count": 80,
   "metadata": {
    "collapsed": true
   },
   "outputs": [],
   "source": [
    "df_60 = create_df(top_features=60)\n",
    "df_30 = create_df(top_features=30)\n",
    "df_20 = create_df(top_features=20)\n",
    "df_15 = create_df(top_features=15)\n",
    "df_5 = create_df(top_features=5)\n",
    "df_20_60 = create_df(from_features=20, top_features=60)\n",
    "\n",
    "df_60['30_corr'] = df_30['mean_corr']\n",
    "df_60['20_corr'] = df_20['mean_corr']\n",
    "df_60['15_corr'] = df_15['mean_corr']\n",
    "df_60['5_corr'] = df_5['mean_corr']\n",
    "df_60['20_60_corr'] = df_20_60['mean_corr']"
   ]
  },
  {
   "cell_type": "code",
   "execution_count": 81,
   "metadata": {},
   "outputs": [
    {
     "data": {
      "text/html": [
       "<div>\n",
       "<style scoped>\n",
       "    .dataframe tbody tr th:only-of-type {\n",
       "        vertical-align: middle;\n",
       "    }\n",
       "\n",
       "    .dataframe tbody tr th {\n",
       "        vertical-align: top;\n",
       "    }\n",
       "\n",
       "    .dataframe thead th {\n",
       "        text-align: right;\n",
       "    }\n",
       "</style>\n",
       "<table border=\"1\" class=\"dataframe\">\n",
       "  <thead>\n",
       "    <tr style=\"text-align: right;\">\n",
       "      <th></th>\n",
       "      <th>0</th>\n",
       "      <th>1</th>\n",
       "      <th>2</th>\n",
       "      <th>3</th>\n",
       "      <th>4</th>\n",
       "      <th>mean_corr</th>\n",
       "      <th>30_corr</th>\n",
       "      <th>20_corr</th>\n",
       "      <th>15_corr</th>\n",
       "      <th>5_corr</th>\n",
       "      <th>20_60_corr</th>\n",
       "    </tr>\n",
       "  </thead>\n",
       "  <tbody>\n",
       "    <tr>\n",
       "      <th>nn_rank:0.01</th>\n",
       "      <td>0.927386</td>\n",
       "      <td>0.915527</td>\n",
       "      <td>0.917756</td>\n",
       "      <td>0.923820</td>\n",
       "      <td>0.897784</td>\n",
       "      <td>0.916455</td>\n",
       "      <td>0.982401</td>\n",
       "      <td>0.961409</td>\n",
       "      <td>0.914333</td>\n",
       "      <td>0.866025</td>\n",
       "      <td>0.689433</td>\n",
       "    </tr>\n",
       "    <tr>\n",
       "      <th>nn_rank:0.05</th>\n",
       "      <td>0.926673</td>\n",
       "      <td>0.919094</td>\n",
       "      <td>0.919540</td>\n",
       "      <td>0.926138</td>\n",
       "      <td>0.919272</td>\n",
       "      <td>0.922143</td>\n",
       "      <td>0.976770</td>\n",
       "      <td>0.965053</td>\n",
       "      <td>0.931790</td>\n",
       "      <td>0.866025</td>\n",
       "      <td>0.714400</td>\n",
       "    </tr>\n",
       "    <tr>\n",
       "      <th>nn_rank:0.1</th>\n",
       "      <td>0.927654</td>\n",
       "      <td>0.919361</td>\n",
       "      <td>0.916954</td>\n",
       "      <td>0.925246</td>\n",
       "      <td>0.919183</td>\n",
       "      <td>0.921680</td>\n",
       "      <td>0.967116</td>\n",
       "      <td>0.946836</td>\n",
       "      <td>0.903422</td>\n",
       "      <td>0.866025</td>\n",
       "      <td>0.717808</td>\n",
       "    </tr>\n",
       "    <tr>\n",
       "      <th>nn_rank:0.5</th>\n",
       "      <td>0.925870</td>\n",
       "      <td>0.913655</td>\n",
       "      <td>0.894752</td>\n",
       "      <td>0.922750</td>\n",
       "      <td>0.918559</td>\n",
       "      <td>0.915117</td>\n",
       "      <td>0.942177</td>\n",
       "      <td>0.922243</td>\n",
       "      <td>0.899058</td>\n",
       "      <td>0.866025</td>\n",
       "      <td>0.703880</td>\n",
       "    </tr>\n",
       "    <tr>\n",
       "      <th>nn_rank:1</th>\n",
       "      <td>0.924533</td>\n",
       "      <td>0.923552</td>\n",
       "      <td>0.901440</td>\n",
       "      <td>0.926673</td>\n",
       "      <td>0.916330</td>\n",
       "      <td>0.918505</td>\n",
       "      <td>0.940836</td>\n",
       "      <td>0.895828</td>\n",
       "      <td>0.840139</td>\n",
       "      <td>0.866025</td>\n",
       "      <td>0.718845</td>\n",
       "    </tr>\n",
       "    <tr>\n",
       "      <th>rf_rank</th>\n",
       "      <td>0.844999</td>\n",
       "      <td>0.882359</td>\n",
       "      <td>0.852222</td>\n",
       "      <td>0.876741</td>\n",
       "      <td>0.845088</td>\n",
       "      <td>0.860282</td>\n",
       "      <td>0.597324</td>\n",
       "      <td>0.562302</td>\n",
       "      <td>0.453893</td>\n",
       "      <td>0.808290</td>\n",
       "      <td>0.660837</td>\n",
       "    </tr>\n",
       "    <tr>\n",
       "      <th>enet_rank</th>\n",
       "      <td>0.243889</td>\n",
       "      <td>0.216452</td>\n",
       "      <td>0.283059</td>\n",
       "      <td>0.297211</td>\n",
       "      <td>0.143002</td>\n",
       "      <td>0.236722</td>\n",
       "      <td>0.183937</td>\n",
       "      <td>0.212094</td>\n",
       "      <td>0.232605</td>\n",
       "      <td>0.115470</td>\n",
       "      <td>0.161143</td>\n",
       "    </tr>\n",
       "    <tr>\n",
       "      <th>zero_rank</th>\n",
       "      <td>0.931755</td>\n",
       "      <td>0.919629</td>\n",
       "      <td>0.927743</td>\n",
       "      <td>0.930596</td>\n",
       "      <td>0.923641</td>\n",
       "      <td>0.926673</td>\n",
       "      <td>0.978378</td>\n",
       "      <td>0.966875</td>\n",
       "      <td>0.955794</td>\n",
       "      <td>0.866025</td>\n",
       "      <td>0.732921</td>\n",
       "    </tr>\n",
       "    <tr>\n",
       "      <th>shuffle_rank</th>\n",
       "      <td>0.930418</td>\n",
       "      <td>0.915527</td>\n",
       "      <td>0.914992</td>\n",
       "      <td>0.927386</td>\n",
       "      <td>0.923285</td>\n",
       "      <td>0.922322</td>\n",
       "      <td>0.960144</td>\n",
       "      <td>0.933173</td>\n",
       "      <td>0.901240</td>\n",
       "      <td>0.866025</td>\n",
       "      <td>0.724475</td>\n",
       "    </tr>\n",
       "  </tbody>\n",
       "</table>\n",
       "</div>"
      ],
      "text/plain": [
       "                     0         1         2         3         4  mean_corr  \\\n",
       "nn_rank:0.01  0.927386  0.915527  0.917756  0.923820  0.897784   0.916455   \n",
       "nn_rank:0.05  0.926673  0.919094  0.919540  0.926138  0.919272   0.922143   \n",
       "nn_rank:0.1   0.927654  0.919361  0.916954  0.925246  0.919183   0.921680   \n",
       "nn_rank:0.5   0.925870  0.913655  0.894752  0.922750  0.918559   0.915117   \n",
       "nn_rank:1     0.924533  0.923552  0.901440  0.926673  0.916330   0.918505   \n",
       "rf_rank       0.844999  0.882359  0.852222  0.876741  0.845088   0.860282   \n",
       "enet_rank     0.243889  0.216452  0.283059  0.297211  0.143002   0.236722   \n",
       "zero_rank     0.931755  0.919629  0.927743  0.930596  0.923641   0.926673   \n",
       "shuffle_rank  0.930418  0.915527  0.914992  0.927386  0.923285   0.922322   \n",
       "\n",
       "               30_corr   20_corr   15_corr    5_corr  20_60_corr  \n",
       "nn_rank:0.01  0.982401  0.961409  0.914333  0.866025    0.689433  \n",
       "nn_rank:0.05  0.976770  0.965053  0.931790  0.866025    0.714400  \n",
       "nn_rank:0.1   0.967116  0.946836  0.903422  0.866025    0.717808  \n",
       "nn_rank:0.5   0.942177  0.922243  0.899058  0.866025    0.703880  \n",
       "nn_rank:1     0.940836  0.895828  0.840139  0.866025    0.718845  \n",
       "rf_rank       0.597324  0.562302  0.453893  0.808290    0.660837  \n",
       "enet_rank     0.183937  0.212094  0.232605  0.115470    0.161143  \n",
       "zero_rank     0.978378  0.966875  0.955794  0.866025    0.732921  \n",
       "shuffle_rank  0.960144  0.933173  0.901240  0.866025    0.724475  "
      ]
     },
     "execution_count": 81,
     "metadata": {},
     "output_type": "execute_result"
    }
   ],
   "source": [
    "df_60"
   ]
  },
  {
   "cell_type": "code",
   "execution_count": 84,
   "metadata": {},
   "outputs": [
    {
     "data": {
      "text/plain": [
       "[<matplotlib.lines.Line2D at 0x7fa1b5656128>]"
      ]
     },
     "execution_count": 84,
     "metadata": {},
     "output_type": "execute_result"
    },
    {
     "data": {
      "image/png": "[encoded data removed]",
      "text/plain": [
       "<matplotlib.figure.Figure at 0x7fa1b58a7ef0>"
      ]
     },
     "metadata": {},
     "output_type": "display_data"
    }
   ],
   "source": [
    "_, ranks = torch.load('../results/MoreInteractionSimulation/0111-%s-nn_test_zero.pth' % 'zero_rank')\n",
    "plt.plot(ranks[0])"
   ]
  },
  {
   "cell_type": "code",
   "execution_count": 85,
   "metadata": {},
   "outputs": [
    {
     "data": {
      "text/plain": [
       "[<matplotlib.lines.Line2D at 0x7fa1b5548fd0>]"
      ]
     },
     "execution_count": 85,
     "metadata": {},
     "output_type": "execute_result"
    },
    {
     "data": {
      "image/png": "[encoded data removed]",
      "text/plain": [
       "<matplotlib.figure.Figure at 0x7fa1b56427f0>"
      ]
     },
     "metadata": {},
     "output_type": "display_data"
    }
   ],
   "source": [
    "_, ranks = torch.load('../results/MoreInteractionSimulation/0111-%s-nn_test_zero.pth' % 'nn_rank:0.05')\n",
    "plt.plot(ranks[0])"
   ]
  },
  {
   "cell_type": "markdown",
   "metadata": {},
   "source": [
    "## Nointeraction"
   ]
  },
  {
   "cell_type": "code",
   "execution_count": 324,
   "metadata": {
    "collapsed": true
   },
   "outputs": [],
   "source": [
    "gnd_truth_rank = np.zeros((40,))\n",
    "for i in range(0, 20):\n",
    "    gnd_truth_rank[i:(i+1)] = (20 - i)"
   ]
  },
  {
   "cell_type": "code",
   "execution_count": 325,
   "metadata": {},
   "outputs": [
    {
     "data": {
      "text/plain": [
       "[<matplotlib.lines.Line2D at 0x7fa1a1e45780>]"
      ]
     },
     "execution_count": 325,
     "metadata": {},
     "output_type": "execute_result"
    },
    {
     "data": {
      "image/png": "[encoded data removed]",
      "text/plain": [
       "<matplotlib.figure.Figure at 0x7fa1a1ea4e80>"
      ]
     },
     "metadata": {},
     "output_type": "display_data"
    }
   ],
   "source": [
    "plt.plot(gnd_truth_rank)"
   ]
  },
  {
   "cell_type": "code",
   "execution_count": 326,
   "metadata": {
    "collapsed": true
   },
   "outputs": [],
   "source": [
    "def create_df(top_features=40):\n",
    "    arr = []\n",
    "    methods = [\n",
    "#         'nn_rank:0.05', 'nn_rank:0.1', 'nn_rank:0.5', \n",
    "        'nn_rank:0.1',  \n",
    "        'nn_rank:1',  \n",
    "         \n",
    "#         'nn_middle_rank:0.001','nn_middle_rank:0.01', 'nn_middle_rank:0.1', 'nn_middle_rank:0.5', 'nn_middle_rank:1',\n",
    "        'rf_rank', \n",
    "        'enet_rank', 'lasso_rank', 'zero_rank', 'shuffle_rank','dfs_rank:0.1', 'marginal_rank'\n",
    "    ]\n",
    "    for method in methods:\n",
    "        _, ranks = torch.load('../results/NoInteractionSimulation/0111-%s-nn_test_zero.pth' % method)\n",
    "        arr.append([spearmanr(gnd_truth_rank[:top_features], ranks[i][:top_features]).correlation for i in range(5)])\n",
    "    df = pd.DataFrame(arr)\n",
    "    df.index = methods\n",
    "    df['mean_corr'] = (df[0] + df[1] + df[2] + df[3] + df[4]) / 5\n",
    "    df['std_corr'] = df[[0, 1, 2, 3, 4]].std(axis=1)\n",
    "#     df['mean_corr'] = (df[0]) / 5\n",
    "    return df"
   ]
  },
  {
   "cell_type": "code",
   "execution_count": 327,
   "metadata": {
    "collapsed": true
   },
   "outputs": [],
   "source": [
    "# df['std_corr'] = df[[0, 1, 2, 3, 4]].std(axis=1)\n",
    "df_40 = create_df(top_features=40)\n",
    "df_20 = create_df(top_features=20)\n",
    "df_15 = create_df(top_features=15)\n",
    "df_10 = create_df(top_features=10)\n",
    "df_5 = create_df(top_features=5)\n",
    "\n",
    "df_40['20_corr'] = df_20['mean_corr']\n",
    "df_40['20_corr_std'] = df_20['std_corr']\n",
    "df_40['15_corr'] = df_15['mean_corr']\n",
    "df_40['15_corr_std'] = df_15['std_corr']\n",
    "df_40['10_corr'] = df_10['mean_corr']\n",
    "df_40['10_corr_std'] = df_10['std_corr']\n",
    "df_40['5_corr'] = df_5['mean_corr']\n",
    "df_40['5_corr_std'] = df_5['std_corr']"
   ]
  },
  {
   "cell_type": "code",
   "execution_count": 328,
   "metadata": {},
   "outputs": [
    {
     "data": {
      "text/html": [
       "<div>\n",
       "<style scoped>\n",
       "    .dataframe tbody tr th:only-of-type {\n",
       "        vertical-align: middle;\n",
       "    }\n",
       "\n",
       "    .dataframe tbody tr th {\n",
       "        vertical-align: top;\n",
       "    }\n",
       "\n",
       "    .dataframe thead th {\n",
       "        text-align: right;\n",
       "    }\n",
       "</style>\n",
       "<table border=\"1\" class=\"dataframe\">\n",
       "  <thead>\n",
       "    <tr style=\"text-align: right;\">\n",
       "      <th></th>\n",
       "      <th>0</th>\n",
       "      <th>1</th>\n",
       "      <th>2</th>\n",
       "      <th>3</th>\n",
       "      <th>4</th>\n",
       "      <th>mean_corr</th>\n",
       "      <th>std_corr</th>\n",
       "      <th>20_corr</th>\n",
       "      <th>20_corr_std</th>\n",
       "      <th>15_corr</th>\n",
       "      <th>15_corr_std</th>\n",
       "      <th>10_corr</th>\n",
       "      <th>10_corr_std</th>\n",
       "      <th>5_corr</th>\n",
       "      <th>5_corr_std</th>\n",
       "    </tr>\n",
       "  </thead>\n",
       "  <tbody>\n",
       "    <tr>\n",
       "      <th>nn_rank:0.1</th>\n",
       "      <td>0.935139</td>\n",
       "      <td>0.935339</td>\n",
       "      <td>0.926315</td>\n",
       "      <td>0.935540</td>\n",
       "      <td>0.933233</td>\n",
       "      <td>0.933113</td>\n",
       "      <td>0.003911</td>\n",
       "      <td>0.997594</td>\n",
       "      <td>0.002281</td>\n",
       "      <td>0.995000</td>\n",
       "      <td>5.416340e-03</td>\n",
       "      <td>0.985455</td>\n",
       "      <td>1.327812e-02</td>\n",
       "      <td>0.92</td>\n",
       "      <td>0.083666</td>\n",
       "    </tr>\n",
       "    <tr>\n",
       "      <th>nn_rank:1</th>\n",
       "      <td>0.935139</td>\n",
       "      <td>0.935339</td>\n",
       "      <td>0.920399</td>\n",
       "      <td>0.935339</td>\n",
       "      <td>0.930927</td>\n",
       "      <td>0.931429</td>\n",
       "      <td>0.006447</td>\n",
       "      <td>0.997594</td>\n",
       "      <td>0.000824</td>\n",
       "      <td>0.994286</td>\n",
       "      <td>1.956152e-03</td>\n",
       "      <td>0.980606</td>\n",
       "      <td>6.639061e-03</td>\n",
       "      <td>0.86</td>\n",
       "      <td>0.054772</td>\n",
       "    </tr>\n",
       "    <tr>\n",
       "      <th>rf_rank</th>\n",
       "      <td>0.928220</td>\n",
       "      <td>0.933233</td>\n",
       "      <td>0.920198</td>\n",
       "      <td>0.894127</td>\n",
       "      <td>0.928019</td>\n",
       "      <td>0.920760</td>\n",
       "      <td>0.015601</td>\n",
       "      <td>0.996090</td>\n",
       "      <td>0.001715</td>\n",
       "      <td>0.992143</td>\n",
       "      <td>2.988072e-03</td>\n",
       "      <td>0.973333</td>\n",
       "      <td>1.014133e-02</td>\n",
       "      <td>0.86</td>\n",
       "      <td>0.054772</td>\n",
       "    </tr>\n",
       "    <tr>\n",
       "      <th>enet_rank</th>\n",
       "      <td>0.053296</td>\n",
       "      <td>0.614785</td>\n",
       "      <td>0.294271</td>\n",
       "      <td>-0.109579</td>\n",
       "      <td>0.294573</td>\n",
       "      <td>0.229469</td>\n",
       "      <td>0.275181</td>\n",
       "      <td>0.996917</td>\n",
       "      <td>0.001201</td>\n",
       "      <td>0.992677</td>\n",
       "      <td>2.855307e-03</td>\n",
       "      <td>0.975128</td>\n",
       "      <td>9.721375e-03</td>\n",
       "      <td>0.86</td>\n",
       "      <td>0.054772</td>\n",
       "    </tr>\n",
       "    <tr>\n",
       "      <th>lasso_rank</th>\n",
       "      <td>0.053296</td>\n",
       "      <td>0.214591</td>\n",
       "      <td>0.133705</td>\n",
       "      <td>-0.109579</td>\n",
       "      <td>0.214389</td>\n",
       "      <td>0.101280</td>\n",
       "      <td>0.135507</td>\n",
       "      <td>0.996917</td>\n",
       "      <td>0.001201</td>\n",
       "      <td>0.992677</td>\n",
       "      <td>2.855307e-03</td>\n",
       "      <td>0.975128</td>\n",
       "      <td>9.721375e-03</td>\n",
       "      <td>0.86</td>\n",
       "      <td>0.054772</td>\n",
       "    </tr>\n",
       "    <tr>\n",
       "      <th>zero_rank</th>\n",
       "      <td>0.935339</td>\n",
       "      <td>0.934938</td>\n",
       "      <td>0.933233</td>\n",
       "      <td>0.931128</td>\n",
       "      <td>0.907764</td>\n",
       "      <td>0.928481</td>\n",
       "      <td>0.011699</td>\n",
       "      <td>0.997594</td>\n",
       "      <td>0.001345</td>\n",
       "      <td>0.995000</td>\n",
       "      <td>1.956152e-03</td>\n",
       "      <td>0.983030</td>\n",
       "      <td>6.639061e-03</td>\n",
       "      <td>0.86</td>\n",
       "      <td>0.054772</td>\n",
       "    </tr>\n",
       "    <tr>\n",
       "      <th>shuffle_rank</th>\n",
       "      <td>0.935139</td>\n",
       "      <td>0.934938</td>\n",
       "      <td>0.920399</td>\n",
       "      <td>0.935139</td>\n",
       "      <td>0.928821</td>\n",
       "      <td>0.930887</td>\n",
       "      <td>0.006458</td>\n",
       "      <td>0.996692</td>\n",
       "      <td>0.000673</td>\n",
       "      <td>0.992857</td>\n",
       "      <td>1.241267e-16</td>\n",
       "      <td>0.975758</td>\n",
       "      <td>1.241267e-16</td>\n",
       "      <td>0.82</td>\n",
       "      <td>0.044721</td>\n",
       "    </tr>\n",
       "    <tr>\n",
       "      <th>dfs_rank:0.1</th>\n",
       "      <td>0.903052</td>\n",
       "      <td>0.905959</td>\n",
       "      <td>0.891821</td>\n",
       "      <td>0.924008</td>\n",
       "      <td>0.885805</td>\n",
       "      <td>0.902129</td>\n",
       "      <td>0.014722</td>\n",
       "      <td>0.978947</td>\n",
       "      <td>0.011983</td>\n",
       "      <td>0.975714</td>\n",
       "      <td>1.195229e-02</td>\n",
       "      <td>0.934545</td>\n",
       "      <td>3.890135e-02</td>\n",
       "      <td>0.78</td>\n",
       "      <td>0.130384</td>\n",
       "    </tr>\n",
       "    <tr>\n",
       "      <th>marginal_rank</th>\n",
       "      <td>0.926114</td>\n",
       "      <td>0.899341</td>\n",
       "      <td>0.894729</td>\n",
       "      <td>0.892824</td>\n",
       "      <td>0.899141</td>\n",
       "      <td>0.902430</td>\n",
       "      <td>0.013536</td>\n",
       "      <td>0.995188</td>\n",
       "      <td>0.001258</td>\n",
       "      <td>0.990714</td>\n",
       "      <td>4.072055e-03</td>\n",
       "      <td>0.970909</td>\n",
       "      <td>1.382031e-02</td>\n",
       "      <td>0.86</td>\n",
       "      <td>0.054772</td>\n",
       "    </tr>\n",
       "  </tbody>\n",
       "</table>\n",
       "</div>"
      ],
      "text/plain": [
       "                      0         1         2         3         4  mean_corr  \\\n",
       "nn_rank:0.1    0.935139  0.935339  0.926315  0.935540  0.933233   0.933113   \n",
       "nn_rank:1      0.935139  0.935339  0.920399  0.935339  0.930927   0.931429   \n",
       "rf_rank        0.928220  0.933233  0.920198  0.894127  0.928019   0.920760   \n",
       "enet_rank      0.053296  0.614785  0.294271 -0.109579  0.294573   0.229469   \n",
       "lasso_rank     0.053296  0.214591  0.133705 -0.109579  0.214389   0.101280   \n",
       "zero_rank      0.935339  0.934938  0.933233  0.931128  0.907764   0.928481   \n",
       "shuffle_rank   0.935139  0.934938  0.920399  0.935139  0.928821   0.930887   \n",
       "dfs_rank:0.1   0.903052  0.905959  0.891821  0.924008  0.885805   0.902129   \n",
       "marginal_rank  0.926114  0.899341  0.894729  0.892824  0.899141   0.902430   \n",
       "\n",
       "               std_corr   20_corr  20_corr_std   15_corr   15_corr_std  \\\n",
       "nn_rank:0.1    0.003911  0.997594     0.002281  0.995000  5.416340e-03   \n",
       "nn_rank:1      0.006447  0.997594     0.000824  0.994286  1.956152e-03   \n",
       "rf_rank        0.015601  0.996090     0.001715  0.992143  2.988072e-03   \n",
       "enet_rank      0.275181  0.996917     0.001201  0.992677  2.855307e-03   \n",
       "lasso_rank     0.135507  0.996917     0.001201  0.992677  2.855307e-03   \n",
       "zero_rank      0.011699  0.997594     0.001345  0.995000  1.956152e-03   \n",
       "shuffle_rank   0.006458  0.996692     0.000673  0.992857  1.241267e-16   \n",
       "dfs_rank:0.1   0.014722  0.978947     0.011983  0.975714  1.195229e-02   \n",
       "marginal_rank  0.013536  0.995188     0.001258  0.990714  4.072055e-03   \n",
       "\n",
       "                10_corr   10_corr_std  5_corr  5_corr_std  \n",
       "nn_rank:0.1    0.985455  1.327812e-02    0.92    0.083666  \n",
       "nn_rank:1      0.980606  6.639061e-03    0.86    0.054772  \n",
       "rf_rank        0.973333  1.014133e-02    0.86    0.054772  \n",
       "enet_rank      0.975128  9.721375e-03    0.86    0.054772  \n",
       "lasso_rank     0.975128  9.721375e-03    0.86    0.054772  \n",
       "zero_rank      0.983030  6.639061e-03    0.86    0.054772  \n",
       "shuffle_rank   0.975758  1.241267e-16    0.82    0.044721  \n",
       "dfs_rank:0.1   0.934545  3.890135e-02    0.78    0.130384  \n",
       "marginal_rank  0.970909  1.382031e-02    0.86    0.054772  "
      ]
     },
     "execution_count": 328,
     "metadata": {},
     "output_type": "execute_result"
    }
   ],
   "source": [
    "df_40"
   ]
  },
  {
   "cell_type": "code",
   "execution_count": 329,
   "metadata": {
    "collapsed": true
   },
   "outputs": [],
   "source": [
    "df_40.to_csv('no_inter.csv')"
   ]
  },
  {
   "cell_type": "markdown",
   "metadata": {},
   "source": [
    "## Corr no interaction"
   ]
  },
  {
   "cell_type": "code",
   "execution_count": 272,
   "metadata": {
    "collapsed": true
   },
   "outputs": [],
   "source": [
    "gnd_truth_rank = np.zeros((40,))\n",
    "for i in range(0, 20):\n",
    "    gnd_truth_rank[i:(i+1)] = (20 - i)\n",
    "\n",
    "def create_df(top_features=40):\n",
    "    arr = []\n",
    "    methods = [\n",
    "        'nn_rank:0.1', 'nn_rank:0.5',\n",
    "         'nn_rank:1',\n",
    "        'dfs_rank:1',\n",
    "#         'nn_middle_rank:0.001','nn_middle_rank:0.01', 'nn_middle_rank:0.1', 'nn_middle_rank:0.5', 'nn_middle_rank:1',\n",
    "        'rf_rank', \n",
    "        'enet_rank', 'lasso_rank', \n",
    "        'zero_rank', 'shuffle_rank', 'random_rank'\n",
    "    ]\n",
    "    for method in methods:\n",
    "        _, ranks = torch.load('../results/CorrelatedNoInteractionSimulation/0111-%s-nn_test_zero.pth' % method)\n",
    "        arr.append([spearmanr(gnd_truth_rank[:top_features], ranks[i][:top_features]).correlation for i in range(1)])\n",
    "    df = pd.DataFrame(arr)\n",
    "    df.index = methods\n",
    "#     df['mean_corr'] = (df[0] + df[1] + df[2] + df[3] + df[4]) / 5\n",
    "    df['mean_corr'] = (df[0]) / 1\n",
    "    return df\n",
    "\n",
    "df_40 = create_df(top_features=40)\n",
    "df_20 = create_df(top_features=20)\n",
    "df_10 = create_df(top_features=10)\n",
    "df_5 = create_df(top_features=5)\n",
    "\n",
    "df_40['20_corr'] = df_20['mean_corr']\n",
    "df_40['10_corr'] = df_10['mean_corr']\n",
    "df_40['5_corr'] = df_5['mean_corr']"
   ]
  },
  {
   "cell_type": "code",
   "execution_count": 275,
   "metadata": {
    "collapsed": true
   },
   "outputs": [],
   "source": [
    "df_40.to_csv('corr_no_interac.csv')"
   ]
  },
  {
   "cell_type": "code",
   "execution_count": 276,
   "metadata": {},
   "outputs": [
    {
     "data": {
      "text/html": [
       "<div>\n",
       "<style scoped>\n",
       "    .dataframe tbody tr th:only-of-type {\n",
       "        vertical-align: middle;\n",
       "    }\n",
       "\n",
       "    .dataframe tbody tr th {\n",
       "        vertical-align: top;\n",
       "    }\n",
       "\n",
       "    .dataframe thead th {\n",
       "        text-align: right;\n",
       "    }\n",
       "</style>\n",
       "<table border=\"1\" class=\"dataframe\">\n",
       "  <thead>\n",
       "    <tr style=\"text-align: right;\">\n",
       "      <th></th>\n",
       "      <th>0</th>\n",
       "      <th>mean_corr</th>\n",
       "      <th>20_corr</th>\n",
       "      <th>10_corr</th>\n",
       "      <th>5_corr</th>\n",
       "    </tr>\n",
       "  </thead>\n",
       "  <tbody>\n",
       "    <tr>\n",
       "      <th>nn_rank:0.1</th>\n",
       "      <td>0.932231</td>\n",
       "      <td>0.932231</td>\n",
       "      <td>0.990977</td>\n",
       "      <td>0.951515</td>\n",
       "      <td>0.700000</td>\n",
       "    </tr>\n",
       "    <tr>\n",
       "      <th>nn_rank:0.5</th>\n",
       "      <td>0.932231</td>\n",
       "      <td>0.932231</td>\n",
       "      <td>0.990977</td>\n",
       "      <td>0.939394</td>\n",
       "      <td>0.700000</td>\n",
       "    </tr>\n",
       "    <tr>\n",
       "      <th>nn_rank:1</th>\n",
       "      <td>0.933033</td>\n",
       "      <td>0.933033</td>\n",
       "      <td>0.996992</td>\n",
       "      <td>0.987879</td>\n",
       "      <td>1.000000</td>\n",
       "    </tr>\n",
       "    <tr>\n",
       "      <th>dfs_rank:1</th>\n",
       "      <td>0.923808</td>\n",
       "      <td>0.923808</td>\n",
       "      <td>0.990977</td>\n",
       "      <td>0.975758</td>\n",
       "      <td>1.000000</td>\n",
       "    </tr>\n",
       "    <tr>\n",
       "      <th>rf_rank</th>\n",
       "      <td>0.921301</td>\n",
       "      <td>0.921301</td>\n",
       "      <td>0.987970</td>\n",
       "      <td>0.903030</td>\n",
       "      <td>0.700000</td>\n",
       "    </tr>\n",
       "    <tr>\n",
       "      <th>enet_rank</th>\n",
       "      <td>0.290061</td>\n",
       "      <td>0.290061</td>\n",
       "      <td>0.988326</td>\n",
       "      <td>0.917032</td>\n",
       "      <td>0.447214</td>\n",
       "    </tr>\n",
       "    <tr>\n",
       "      <th>lasso_rank</th>\n",
       "      <td>-0.110095</td>\n",
       "      <td>-0.110095</td>\n",
       "      <td>0.993607</td>\n",
       "      <td>0.948333</td>\n",
       "      <td>0.666886</td>\n",
       "    </tr>\n",
       "    <tr>\n",
       "      <th>zero_rank</th>\n",
       "      <td>0.933033</td>\n",
       "      <td>0.933033</td>\n",
       "      <td>0.996992</td>\n",
       "      <td>0.987879</td>\n",
       "      <td>1.000000</td>\n",
       "    </tr>\n",
       "    <tr>\n",
       "      <th>shuffle_rank</th>\n",
       "      <td>0.933233</td>\n",
       "      <td>0.933233</td>\n",
       "      <td>0.998496</td>\n",
       "      <td>1.000000</td>\n",
       "      <td>1.000000</td>\n",
       "    </tr>\n",
       "    <tr>\n",
       "      <th>random_rank</th>\n",
       "      <td>0.183699</td>\n",
       "      <td>0.183699</td>\n",
       "      <td>0.049624</td>\n",
       "      <td>0.272727</td>\n",
       "      <td>-0.100000</td>\n",
       "    </tr>\n",
       "  </tbody>\n",
       "</table>\n",
       "</div>"
      ],
      "text/plain": [
       "                     0  mean_corr   20_corr   10_corr    5_corr\n",
       "nn_rank:0.1   0.932231   0.932231  0.990977  0.951515  0.700000\n",
       "nn_rank:0.5   0.932231   0.932231  0.990977  0.939394  0.700000\n",
       "nn_rank:1     0.933033   0.933033  0.996992  0.987879  1.000000\n",
       "dfs_rank:1    0.923808   0.923808  0.990977  0.975758  1.000000\n",
       "rf_rank       0.921301   0.921301  0.987970  0.903030  0.700000\n",
       "enet_rank     0.290061   0.290061  0.988326  0.917032  0.447214\n",
       "lasso_rank   -0.110095  -0.110095  0.993607  0.948333  0.666886\n",
       "zero_rank     0.933033   0.933033  0.996992  0.987879  1.000000\n",
       "shuffle_rank  0.933233   0.933233  0.998496  1.000000  1.000000\n",
       "random_rank   0.183699   0.183699  0.049624  0.272727 -0.100000"
      ]
     },
     "execution_count": 276,
     "metadata": {},
     "output_type": "execute_result"
    }
   ],
   "source": [
    "df_40"
   ]
  },
  {
   "cell_type": "code",
   "execution_count": 274,
   "metadata": {
    "scrolled": true
   },
   "outputs": [
    {
     "data": {
      "text/plain": [
       "<matplotlib.legend.Legend at 0x7fa1a2050588>"
      ]
     },
     "execution_count": 274,
     "metadata": {},
     "output_type": "execute_result"
    },
    {
     "data": {
      "image/png": "[encoded data removed]",
      "text/plain": [
       "<matplotlib.figure.Figure at 0x7fa1a2132e80>"
      ]
     },
     "metadata": {},
     "output_type": "display_data"
    }
   ],
   "source": [
    "from scipy.stats import rankdata\n",
    "\n",
    "methods = ['zero_rank', 'nn_rank:1', 'rf_rank', 'lasso_rank']\n",
    "for method in methods:\n",
    "    _, ranks = torch.load('../results/CorrelatedNoInteractionSimulation/0111-%s-nn_test_zero.pth' % method)\n",
    "    plt.plot(rankdata(ranks[0]), label=method)\n",
    "plt.plot(gnd_truth_rank + 20, label='ground truth')\n",
    "plt.legend()"
   ]
  },
  {
   "cell_type": "markdown",
   "metadata": {},
   "source": [
    "## Corr interaction"
   ]
  },
  {
   "cell_type": "code",
   "execution_count": 287,
   "metadata": {
    "collapsed": true
   },
   "outputs": [],
   "source": [
    "gnd_truth_rank = np.zeros((40,))\n",
    "for i in range(0, 20, 2):\n",
    "    gnd_truth_rank[i:(i+2)] = (20 - i)"
   ]
  },
  {
   "cell_type": "code",
   "execution_count": 306,
   "metadata": {
    "collapsed": true
   },
   "outputs": [],
   "source": [
    "def create_df(top_features=40):\n",
    "    arr = []\n",
    "    methods = [\n",
    "#         'nn_rank:0.01', 'nn_rank:0.5', 'nn_rank:1', \n",
    "        'nn_rank:0.1', \n",
    "        'nn_rank:0.5', \n",
    "        'nn_rank:1', \n",
    "        'nn_rank:5', \n",
    "        'nn_rank:2', \n",
    "        'nn_rank:3', \n",
    "#         'nn_middle_rank:0.001','nn_middle_rank:0.01', 'nn_middle_rank:0.1', 'nn_middle_rank:0.5', 'nn_middle_rank:1',\n",
    "        'rf_rank', \n",
    "        'enet_rank', 'lasso_rank', 'zero_rank', 'shuffle_rank', 'random_rank', 'dfs_rank:2'\n",
    "    ]\n",
    "    for method in methods:\n",
    "        _, ranks = torch.load('../results/CorrelatedInteractionSimulation/0111-%s-nn_test_zero.pth' % method)\n",
    "        arr.append([spearmanr(gnd_truth_rank[:top_features], ranks[i][:top_features]).correlation for i in range(5)])\n",
    "    df = pd.DataFrame(arr)\n",
    "    df.index = methods\n",
    "    df['std_corr'] = df[[0, 1, 2, 3, 4]].std(axis=1)\n",
    "    df['mean_corr'] = (df[0] + df[1] + df[2] + df[3] + df[4]) / 5\n",
    "#     df['mean_corr'] = (df[0]) / 1\n",
    "    return df"
   ]
  },
  {
   "cell_type": "code",
   "execution_count": 309,
   "metadata": {
    "collapsed": true
   },
   "outputs": [],
   "source": [
    "# df['std_corr'] = df[[0, 1, 2, 3, 4]].std(axis=1)\n",
    "df_40 = create_df(top_features=40)\n",
    "df_20 = create_df(top_features=20)\n",
    "df_15 = create_df(top_features=15)\n",
    "df_10 = create_df(top_features=10)\n",
    "df_5 = create_df(top_features=5)\n",
    "\n",
    "df_40['20_corr'] = df_20['mean_corr']\n",
    "df_40['20_corr_std'] = df_20['std_corr']\n",
    "df_40['15_corr'] = df_15['mean_corr']\n",
    "df_40['15_corr_std'] = df_15['std_corr']\n",
    "df_40['10_corr'] = df_10['mean_corr']\n",
    "df_40['10_corr_std'] = df_10['std_corr']\n",
    "df_40['5_corr'] = df_5['mean_corr']\n",
    "df_40['5_corr_std'] = df_5['std_corr']"
   ]
  },
  {
   "cell_type": "code",
   "execution_count": 311,
   "metadata": {
    "collapsed": true
   },
   "outputs": [
    {
     "data": {
      "text/html": [
       "<div>\n",
       "<style scoped>\n",
       "    .dataframe tbody tr th:only-of-type {\n",
       "        vertical-align: middle;\n",
       "    }\n",
       "\n",
       "    .dataframe tbody tr th {\n",
       "        vertical-align: top;\n",
       "    }\n",
       "\n",
       "    .dataframe thead th {\n",
       "        text-align: right;\n",
       "    }\n",
       "</style>\n",
       "<table border=\"1\" class=\"dataframe\">\n",
       "  <thead>\n",
       "    <tr style=\"text-align: right;\">\n",
       "      <th></th>\n",
       "      <th>0</th>\n",
       "      <th>1</th>\n",
       "      <th>2</th>\n",
       "      <th>3</th>\n",
       "      <th>4</th>\n",
       "      <th>std_corr</th>\n",
       "      <th>mean_corr</th>\n",
       "      <th>20_corr</th>\n",
       "      <th>20_corr_std</th>\n",
       "      <th>15_corr</th>\n",
       "      <th>15_corr_std</th>\n",
       "      <th>10_corr</th>\n",
       "      <th>10_corr_std</th>\n",
       "      <th>5_corr</th>\n",
       "      <th>5_corr_std</th>\n",
       "    </tr>\n",
       "  </thead>\n",
       "  <tbody>\n",
       "    <tr>\n",
       "      <th>nn_rank:0.1</th>\n",
       "      <td>0.908953</td>\n",
       "      <td>0.909154</td>\n",
       "      <td>0.857787</td>\n",
       "      <td>0.870830</td>\n",
       "      <td>0.904138</td>\n",
       "      <td>0.024140</td>\n",
       "      <td>0.890172</td>\n",
       "      <td>0.918950</td>\n",
       "      <td>0.124263</td>\n",
       "      <td>0.860754</td>\n",
       "      <td>0.225620</td>\n",
       "      <td>0.738549</td>\n",
       "      <td>0.387298</td>\n",
       "      <td>0.632456</td>\n",
       "      <td>0.525727</td>\n",
       "    </tr>\n",
       "    <tr>\n",
       "      <th>nn_rank:0.5</th>\n",
       "      <td>0.907549</td>\n",
       "      <td>0.899924</td>\n",
       "      <td>0.863405</td>\n",
       "      <td>0.866817</td>\n",
       "      <td>0.890895</td>\n",
       "      <td>0.019750</td>\n",
       "      <td>0.885718</td>\n",
       "      <td>0.949743</td>\n",
       "      <td>0.065260</td>\n",
       "      <td>0.913226</td>\n",
       "      <td>0.131894</td>\n",
       "      <td>0.787786</td>\n",
       "      <td>0.372136</td>\n",
       "      <td>0.790569</td>\n",
       "      <td>0.273861</td>\n",
       "    </tr>\n",
       "    <tr>\n",
       "      <th>nn_rank:1</th>\n",
       "      <td>0.910157</td>\n",
       "      <td>0.897717</td>\n",
       "      <td>0.856583</td>\n",
       "      <td>0.862001</td>\n",
       "      <td>0.884875</td>\n",
       "      <td>0.022879</td>\n",
       "      <td>0.882267</td>\n",
       "      <td>0.961818</td>\n",
       "      <td>0.033994</td>\n",
       "      <td>0.934789</td>\n",
       "      <td>0.072130</td>\n",
       "      <td>0.827175</td>\n",
       "      <td>0.230678</td>\n",
       "      <td>0.906520</td>\n",
       "      <td>0.094281</td>\n",
       "    </tr>\n",
       "    <tr>\n",
       "      <th>nn_rank:5</th>\n",
       "      <td>0.904940</td>\n",
       "      <td>0.892500</td>\n",
       "      <td>0.810433</td>\n",
       "      <td>0.855580</td>\n",
       "      <td>0.889490</td>\n",
       "      <td>0.038280</td>\n",
       "      <td>0.870589</td>\n",
       "      <td>0.964233</td>\n",
       "      <td>0.023149</td>\n",
       "      <td>0.939102</td>\n",
       "      <td>0.053452</td>\n",
       "      <td>0.915801</td>\n",
       "      <td>0.032098</td>\n",
       "      <td>0.885438</td>\n",
       "      <td>0.141421</td>\n",
       "    </tr>\n",
       "    <tr>\n",
       "      <th>nn_rank:2</th>\n",
       "      <td>0.912365</td>\n",
       "      <td>0.895108</td>\n",
       "      <td>0.833107</td>\n",
       "      <td>0.860396</td>\n",
       "      <td>0.885678</td>\n",
       "      <td>0.031047</td>\n",
       "      <td>0.877331</td>\n",
       "      <td>0.974498</td>\n",
       "      <td>0.008904</td>\n",
       "      <td>0.966416</td>\n",
       "      <td>0.022387</td>\n",
       "      <td>0.940419</td>\n",
       "      <td>0.044039</td>\n",
       "      <td>0.948683</td>\n",
       "      <td>0.000000</td>\n",
       "    </tr>\n",
       "    <tr>\n",
       "      <th>nn_rank:3</th>\n",
       "      <td>0.915374</td>\n",
       "      <td>0.892901</td>\n",
       "      <td>0.819864</td>\n",
       "      <td>0.863004</td>\n",
       "      <td>0.880461</td>\n",
       "      <td>0.035923</td>\n",
       "      <td>0.874321</td>\n",
       "      <td>0.963026</td>\n",
       "      <td>0.025348</td>\n",
       "      <td>0.937665</td>\n",
       "      <td>0.050161</td>\n",
       "      <td>0.910877</td>\n",
       "      <td>0.034816</td>\n",
       "      <td>0.853815</td>\n",
       "      <td>0.086603</td>\n",
       "    </tr>\n",
       "    <tr>\n",
       "      <th>rf_rank</th>\n",
       "      <td>0.841534</td>\n",
       "      <td>0.852771</td>\n",
       "      <td>0.852972</td>\n",
       "      <td>0.826485</td>\n",
       "      <td>0.855981</td>\n",
       "      <td>0.012194</td>\n",
       "      <td>0.845949</td>\n",
       "      <td>0.928610</td>\n",
       "      <td>0.026197</td>\n",
       "      <td>0.875848</td>\n",
       "      <td>0.039566</td>\n",
       "      <td>0.743473</td>\n",
       "      <td>0.087732</td>\n",
       "      <td>0.421637</td>\n",
       "      <td>0.293447</td>\n",
       "    </tr>\n",
       "    <tr>\n",
       "      <th>enet_rank</th>\n",
       "      <td>0.083278</td>\n",
       "      <td>-0.228607</td>\n",
       "      <td>0.180796</td>\n",
       "      <td>-0.134838</td>\n",
       "      <td>0.205778</td>\n",
       "      <td>0.193743</td>\n",
       "      <td>0.021281</td>\n",
       "      <td>0.066708</td>\n",
       "      <td>0.224877</td>\n",
       "      <td>0.152025</td>\n",
       "      <td>0.186192</td>\n",
       "      <td>0.103397</td>\n",
       "      <td>0.243957</td>\n",
       "      <td>-0.147573</td>\n",
       "      <td>0.367801</td>\n",
       "    </tr>\n",
       "    <tr>\n",
       "      <th>lasso_rank</th>\n",
       "      <td>0.083278</td>\n",
       "      <td>-0.228607</td>\n",
       "      <td>0.184935</td>\n",
       "      <td>0.014749</td>\n",
       "      <td>0.205778</td>\n",
       "      <td>0.174947</td>\n",
       "      <td>0.052027</td>\n",
       "      <td>0.121048</td>\n",
       "      <td>0.259509</td>\n",
       "      <td>0.222107</td>\n",
       "      <td>0.264085</td>\n",
       "      <td>0.201870</td>\n",
       "      <td>0.378354</td>\n",
       "      <td>0.010541</td>\n",
       "      <td>0.463081</td>\n",
       "    </tr>\n",
       "    <tr>\n",
       "      <th>zero_rank</th>\n",
       "      <td>0.905342</td>\n",
       "      <td>0.912365</td>\n",
       "      <td>0.890895</td>\n",
       "      <td>0.887484</td>\n",
       "      <td>0.903135</td>\n",
       "      <td>0.010376</td>\n",
       "      <td>0.899844</td>\n",
       "      <td>0.974498</td>\n",
       "      <td>0.012337</td>\n",
       "      <td>0.960666</td>\n",
       "      <td>0.019421</td>\n",
       "      <td>0.925648</td>\n",
       "      <td>0.051050</td>\n",
       "      <td>0.885438</td>\n",
       "      <td>0.086603</td>\n",
       "    </tr>\n",
       "    <tr>\n",
       "      <th>shuffle_rank</th>\n",
       "      <td>0.907148</td>\n",
       "      <td>0.912365</td>\n",
       "      <td>0.891296</td>\n",
       "      <td>0.887484</td>\n",
       "      <td>0.906144</td>\n",
       "      <td>0.010842</td>\n",
       "      <td>0.900887</td>\n",
       "      <td>0.975101</td>\n",
       "      <td>0.011092</td>\n",
       "      <td>0.963541</td>\n",
       "      <td>0.019946</td>\n",
       "      <td>0.930572</td>\n",
       "      <td>0.040452</td>\n",
       "      <td>0.885438</td>\n",
       "      <td>0.086603</td>\n",
       "    </tr>\n",
       "    <tr>\n",
       "      <th>random_rank</th>\n",
       "      <td>-0.347931</td>\n",
       "      <td>0.245799</td>\n",
       "      <td>-0.317632</td>\n",
       "      <td>0.054577</td>\n",
       "      <td>-0.134437</td>\n",
       "      <td>0.251739</td>\n",
       "      <td>-0.099925</td>\n",
       "      <td>-0.004830</td>\n",
       "      <td>0.188428</td>\n",
       "      <td>-0.050675</td>\n",
       "      <td>0.210777</td>\n",
       "      <td>0.172328</td>\n",
       "      <td>0.476095</td>\n",
       "      <td>-0.242441</td>\n",
       "      <td>0.454300</td>\n",
       "    </tr>\n",
       "    <tr>\n",
       "      <th>dfs_rank:2</th>\n",
       "      <td>0.870629</td>\n",
       "      <td>0.921193</td>\n",
       "      <td>0.896914</td>\n",
       "      <td>0.869826</td>\n",
       "      <td>0.913568</td>\n",
       "      <td>0.023773</td>\n",
       "      <td>0.894426</td>\n",
       "      <td>0.973894</td>\n",
       "      <td>0.012000</td>\n",
       "      <td>0.975042</td>\n",
       "      <td>0.016548</td>\n",
       "      <td>0.950266</td>\n",
       "      <td>0.041194</td>\n",
       "      <td>0.853815</td>\n",
       "      <td>0.141421</td>\n",
       "    </tr>\n",
       "  </tbody>\n",
       "</table>\n",
       "</div>"
      ],
      "text/plain": [
       "                     0         1         2         3         4  std_corr  \\\n",
       "nn_rank:0.1   0.908953  0.909154  0.857787  0.870830  0.904138  0.024140   \n",
       "nn_rank:0.5   0.907549  0.899924  0.863405  0.866817  0.890895  0.019750   \n",
       "nn_rank:1     0.910157  0.897717  0.856583  0.862001  0.884875  0.022879   \n",
       "nn_rank:5     0.904940  0.892500  0.810433  0.855580  0.889490  0.038280   \n",
       "nn_rank:2     0.912365  0.895108  0.833107  0.860396  0.885678  0.031047   \n",
       "nn_rank:3     0.915374  0.892901  0.819864  0.863004  0.880461  0.035923   \n",
       "rf_rank       0.841534  0.852771  0.852972  0.826485  0.855981  0.012194   \n",
       "enet_rank     0.083278 -0.228607  0.180796 -0.134838  0.205778  0.193743   \n",
       "lasso_rank    0.083278 -0.228607  0.184935  0.014749  0.205778  0.174947   \n",
       "zero_rank     0.905342  0.912365  0.890895  0.887484  0.903135  0.010376   \n",
       "shuffle_rank  0.907148  0.912365  0.891296  0.887484  0.906144  0.010842   \n",
       "random_rank  -0.347931  0.245799 -0.317632  0.054577 -0.134437  0.251739   \n",
       "dfs_rank:2    0.870629  0.921193  0.896914  0.869826  0.913568  0.023773   \n",
       "\n",
       "              mean_corr   20_corr  20_corr_std   15_corr  15_corr_std  \\\n",
       "nn_rank:0.1    0.890172  0.918950     0.124263  0.860754     0.225620   \n",
       "nn_rank:0.5    0.885718  0.949743     0.065260  0.913226     0.131894   \n",
       "nn_rank:1      0.882267  0.961818     0.033994  0.934789     0.072130   \n",
       "nn_rank:5      0.870589  0.964233     0.023149  0.939102     0.053452   \n",
       "nn_rank:2      0.877331  0.974498     0.008904  0.966416     0.022387   \n",
       "nn_rank:3      0.874321  0.963026     0.025348  0.937665     0.050161   \n",
       "rf_rank        0.845949  0.928610     0.026197  0.875848     0.039566   \n",
       "enet_rank      0.021281  0.066708     0.224877  0.152025     0.186192   \n",
       "lasso_rank     0.052027  0.121048     0.259509  0.222107     0.264085   \n",
       "zero_rank      0.899844  0.974498     0.012337  0.960666     0.019421   \n",
       "shuffle_rank   0.900887  0.975101     0.011092  0.963541     0.019946   \n",
       "random_rank   -0.099925 -0.004830     0.188428 -0.050675     0.210777   \n",
       "dfs_rank:2     0.894426  0.973894     0.012000  0.975042     0.016548   \n",
       "\n",
       "               10_corr  10_corr_std    5_corr  5_corr_std  \n",
       "nn_rank:0.1   0.738549     0.387298  0.632456    0.525727  \n",
       "nn_rank:0.5   0.787786     0.372136  0.790569    0.273861  \n",
       "nn_rank:1     0.827175     0.230678  0.906520    0.094281  \n",
       "nn_rank:5     0.915801     0.032098  0.885438    0.141421  \n",
       "nn_rank:2     0.940419     0.044039  0.948683    0.000000  \n",
       "nn_rank:3     0.910877     0.034816  0.853815    0.086603  \n",
       "rf_rank       0.743473     0.087732  0.421637    0.293447  \n",
       "enet_rank     0.103397     0.243957 -0.147573    0.367801  \n",
       "lasso_rank    0.201870     0.378354  0.010541    0.463081  \n",
       "zero_rank     0.925648     0.051050  0.885438    0.086603  \n",
       "shuffle_rank  0.930572     0.040452  0.885438    0.086603  \n",
       "random_rank   0.172328     0.476095 -0.242441    0.454300  \n",
       "dfs_rank:2    0.950266     0.041194  0.853815    0.141421  "
      ]
     },
     "execution_count": 311,
     "metadata": {},
     "output_type": "execute_result"
    }
   ],
   "source": [
    "df_40"
   ]
  },
  {
   "cell_type": "code",
   "execution_count": 312,
   "metadata": {
    "collapsed": true
   },
   "outputs": [],
   "source": [
    "df_40.to_csv('corr_inter.csv')"
   ]
  },
  {
   "cell_type": "markdown",
   "metadata": {},
   "source": [
    "## Why correlated interaction the zero performs bad in the end?"
   ]
  },
  {
   "cell_type": "code",
   "execution_count": 256,
   "metadata": {
    "scrolled": true
   },
   "outputs": [
    {
     "data": {
      "text/plain": [
       "<matplotlib.legend.Legend at 0x7fa1a233fda0>"
      ]
     },
     "execution_count": 256,
     "metadata": {},
     "output_type": "execute_result"
    },
    {
     "data": {
      "image/png": "[encoded data removed]",
      "text/plain": [
       "<matplotlib.figure.Figure at 0x7fa1a2791400>"
      ]
     },
     "metadata": {},
     "output_type": "display_data"
    }
   ],
   "source": [
    "from scipy.stats import rankdata\n",
    "\n",
    "methods = ['zero_rank', 'nn_rank:2', 'rf_rank']\n",
    "for method in methods:\n",
    "    _, ranks = torch.load('../results/CorrelatedInteractionSimulation/0111-%s-nn_test_zero.pth' % method)\n",
    "    plt.plot(rankdata(ranks[0]), label=method)\n",
    "plt.plot(gnd_truth_rank + 20, label='ground truth')\n",
    "plt.legend()"
   ]
  },
  {
   "cell_type": "code",
   "execution_count": 133,
   "metadata": {},
   "outputs": [
    {
     "data": {
      "text/plain": [
       "[<matplotlib.lines.Line2D at 0x7fa1b0226978>]"
      ]
     },
     "execution_count": 133,
     "metadata": {},
     "output_type": "execute_result"
    },
    {
     "data": {
      "image/png": "[encoded data removed]",
      "text/plain": [
       "<matplotlib.figure.Figure at 0x7fa1b54a47b8>"
      ]
     },
     "metadata": {},
     "output_type": "display_data"
    }
   ],
   "source": [
    "_, ranks = torch.load('../results/CorrelatedInteractionSimulation/0111-%s-nn_test_zero.pth' % 'nn_rank:1')\n",
    "plt.plot(ranks[0])"
   ]
  },
  {
   "cell_type": "code",
   "execution_count": 130,
   "metadata": {},
   "outputs": [
    {
     "data": {
      "text/plain": [
       "[<matplotlib.lines.Line2D at 0x7fa1b536c6a0>]"
      ]
     },
     "execution_count": 130,
     "metadata": {},
     "output_type": "execute_result"
    },
    {
     "data": {
      "image/png": "[encoded data removed]",
      "text/plain": [
       "<matplotlib.figure.Figure at 0x7fa1a3c82320>"
      ]
     },
     "metadata": {},
     "output_type": "display_data"
    }
   ],
   "source": [
    "_, ranks = torch.load('../results/CorrelatedInteractionSimulation/0111-%s-nn_test_zero.pth' % 'zero_rank')\n",
    "plt.plot(ranks[0])"
   ]
  },
  {
   "cell_type": "markdown",
   "metadata": {},
   "source": [
    "## Interaction"
   ]
  },
  {
   "cell_type": "code",
   "execution_count": 3,
   "metadata": {
    "collapsed": true
   },
   "outputs": [],
   "source": [
    "gnd_truth_rank = np.zeros((40,))\n",
    "for i in range(0, 20, 2):\n",
    "    gnd_truth_rank[i:(i+2)] = (20 - i)\n",
    "def create_df(top_features=40):\n",
    "    arr = []\n",
    "    methods = [\n",
    "        'nn_rank:0.05', 'nn_rank:0.1', 'nn_rank:0.5', \n",
    "#         'nn_middle_rank:0.001','nn_middle_rank:0.01', 'nn_middle_rank:0.1', 'nn_middle_rank:0.5', 'nn_middle_rank:1',\n",
    "        'nn_rank:1', 'rf_rank', \n",
    "        'enet_rank', 'lasso_rank', 'zero_rank', 'shuffle_rank', 'dfs_rank:1', 'marginal_rank'\n",
    "    ]\n",
    "    for method in methods:\n",
    "        _, ranks = torch.load('../results/InteractionSimulation/0111-%s-nn_test_zero.pth' % method)\n",
    "        arr.append([spearmanr(gnd_truth_rank[:top_features], ranks[i][:top_features]).correlation for i in range(5)])\n",
    "    df = pd.DataFrame(arr)\n",
    "    df.index = methods\n",
    "    df['std_corr'] = df[[0, 1, 2, 3, 4]].std(axis=1)\n",
    "    df['mean_corr'] = ((df[0] + df[1] + df[2] + df[3] + df[4]) / 5)\n",
    "    return df"
   ]
  },
  {
   "cell_type": "code",
   "execution_count": 331,
   "metadata": {
    "collapsed": true
   },
   "outputs": [],
   "source": [
    "# df['std_corr'] = df[[0, 1, 2, 3, 4]].std(axis=1)\n",
    "df_40 = create_df(top_features=40)\n",
    "df_20 = create_df(top_features=20)\n",
    "df_15 = create_df(top_features=15)\n",
    "df_10 = create_df(top_features=10)\n",
    "df_5 = create_df(top_features=5)\n",
    "\n",
    "df_40['20_corr'] = df_20['mean_corr']\n",
    "df_40['20_corr_std'] = df_20['std_corr']\n",
    "df_40['15_corr'] = df_15['mean_corr']\n",
    "df_40['15_corr_std'] = df_15['std_corr']\n",
    "df_40['10_corr'] = df_10['mean_corr']\n",
    "df_40['10_corr_std'] = df_10['std_corr']\n",
    "df_40['5_corr'] = df_5['mean_corr']\n",
    "df_40['5_corr_std'] = df_5['std_corr']"
   ]
  },
  {
   "cell_type": "code",
   "execution_count": 332,
   "metadata": {
    "collapsed": true,
    "scrolled": false
   },
   "outputs": [],
   "source": [
    "df_40.to_csv('inter.csv')"
   ]
  },
  {
   "cell_type": "code",
   "execution_count": 333,
   "metadata": {
    "scrolled": true
   },
   "outputs": [
    {
     "data": {
      "text/html": [
       "<div>\n",
       "<style scoped>\n",
       "    .dataframe tbody tr th:only-of-type {\n",
       "        vertical-align: middle;\n",
       "    }\n",
       "\n",
       "    .dataframe tbody tr th {\n",
       "        vertical-align: top;\n",
       "    }\n",
       "\n",
       "    .dataframe thead th {\n",
       "        text-align: right;\n",
       "    }\n",
       "</style>\n",
       "<table border=\"1\" class=\"dataframe\">\n",
       "  <thead>\n",
       "    <tr style=\"text-align: right;\">\n",
       "      <th></th>\n",
       "      <th>0</th>\n",
       "      <th>1</th>\n",
       "      <th>2</th>\n",
       "      <th>3</th>\n",
       "      <th>4</th>\n",
       "      <th>std_corr</th>\n",
       "      <th>mean_corr</th>\n",
       "      <th>20_corr</th>\n",
       "      <th>20_corr_std</th>\n",
       "      <th>15_corr</th>\n",
       "      <th>15_corr_std</th>\n",
       "      <th>10_corr</th>\n",
       "      <th>10_corr_std</th>\n",
       "      <th>5_corr</th>\n",
       "      <th>5_corr_std</th>\n",
       "    </tr>\n",
       "  </thead>\n",
       "  <tbody>\n",
       "    <tr>\n",
       "      <th>nn_rank:0.05</th>\n",
       "      <td>0.912164</td>\n",
       "      <td>0.898118</td>\n",
       "      <td>0.921996</td>\n",
       "      <td>0.903335</td>\n",
       "      <td>0.857988</td>\n",
       "      <td>0.024512</td>\n",
       "      <td>0.898720</td>\n",
       "      <td>0.988988</td>\n",
       "      <td>0.005484</td>\n",
       "      <td>0.983667</td>\n",
       "      <td>0.014012</td>\n",
       "      <td>0.984732</td>\n",
       "      <td>0.000000</td>\n",
       "      <td>0.948683</td>\n",
       "      <td>0.000000</td>\n",
       "    </tr>\n",
       "    <tr>\n",
       "      <th>nn_rank:0.1</th>\n",
       "      <td>0.908753</td>\n",
       "      <td>0.893704</td>\n",
       "      <td>0.905743</td>\n",
       "      <td>0.905542</td>\n",
       "      <td>0.855781</td>\n",
       "      <td>0.022077</td>\n",
       "      <td>0.893905</td>\n",
       "      <td>0.989592</td>\n",
       "      <td>0.003936</td>\n",
       "      <td>0.987980</td>\n",
       "      <td>0.012858</td>\n",
       "      <td>0.984732</td>\n",
       "      <td>0.000000</td>\n",
       "      <td>0.948683</td>\n",
       "      <td>0.000000</td>\n",
       "    </tr>\n",
       "    <tr>\n",
       "      <th>nn_rank:0.5</th>\n",
       "      <td>0.910960</td>\n",
       "      <td>0.882267</td>\n",
       "      <td>0.902332</td>\n",
       "      <td>0.905141</td>\n",
       "      <td>0.866215</td>\n",
       "      <td>0.018635</td>\n",
       "      <td>0.893383</td>\n",
       "      <td>0.987781</td>\n",
       "      <td>0.005400</td>\n",
       "      <td>0.981870</td>\n",
       "      <td>0.013423</td>\n",
       "      <td>0.984732</td>\n",
       "      <td>0.000000</td>\n",
       "      <td>0.948683</td>\n",
       "      <td>0.000000</td>\n",
       "    </tr>\n",
       "    <tr>\n",
       "      <th>nn_rank:1</th>\n",
       "      <td>0.916578</td>\n",
       "      <td>0.907348</td>\n",
       "      <td>0.921996</td>\n",
       "      <td>0.916177</td>\n",
       "      <td>0.881865</td>\n",
       "      <td>0.015942</td>\n",
       "      <td>0.908793</td>\n",
       "      <td>0.989592</td>\n",
       "      <td>0.003936</td>\n",
       "      <td>0.986902</td>\n",
       "      <td>0.005146</td>\n",
       "      <td>0.984732</td>\n",
       "      <td>0.000000</td>\n",
       "      <td>0.948683</td>\n",
       "      <td>0.000000</td>\n",
       "    </tr>\n",
       "    <tr>\n",
       "      <th>rf_rank</th>\n",
       "      <td>0.921394</td>\n",
       "      <td>0.912565</td>\n",
       "      <td>0.896914</td>\n",
       "      <td>0.886681</td>\n",
       "      <td>0.904138</td>\n",
       "      <td>0.013468</td>\n",
       "      <td>0.904338</td>\n",
       "      <td>0.982950</td>\n",
       "      <td>0.011614</td>\n",
       "      <td>0.969651</td>\n",
       "      <td>0.022140</td>\n",
       "      <td>0.925648</td>\n",
       "      <td>0.056676</td>\n",
       "      <td>0.885438</td>\n",
       "      <td>0.141421</td>\n",
       "    </tr>\n",
       "    <tr>\n",
       "      <th>enet_rank</th>\n",
       "      <td>-0.077771</td>\n",
       "      <td>-0.307399</td>\n",
       "      <td>0.021173</td>\n",
       "      <td>0.027201</td>\n",
       "      <td>-0.028997</td>\n",
       "      <td>0.137669</td>\n",
       "      <td>-0.073159</td>\n",
       "      <td>-0.129792</td>\n",
       "      <td>0.141633</td>\n",
       "      <td>-0.190127</td>\n",
       "      <td>0.100533</td>\n",
       "      <td>-0.403980</td>\n",
       "      <td>0.216432</td>\n",
       "      <td>0.189737</td>\n",
       "      <td>0.386580</td>\n",
       "    </tr>\n",
       "    <tr>\n",
       "      <th>lasso_rank</th>\n",
       "      <td>-0.077771</td>\n",
       "      <td>-0.307399</td>\n",
       "      <td>0.021173</td>\n",
       "      <td>0.027201</td>\n",
       "      <td>-0.028396</td>\n",
       "      <td>0.137717</td>\n",
       "      <td>-0.073038</td>\n",
       "      <td>-0.128895</td>\n",
       "      <td>0.141719</td>\n",
       "      <td>-0.190127</td>\n",
       "      <td>0.100533</td>\n",
       "      <td>-0.403980</td>\n",
       "      <td>0.216432</td>\n",
       "      <td>0.189737</td>\n",
       "      <td>0.386580</td>\n",
       "    </tr>\n",
       "    <tr>\n",
       "      <th>zero_rank</th>\n",
       "      <td>0.923200</td>\n",
       "      <td>0.898520</td>\n",
       "      <td>0.929821</td>\n",
       "      <td>0.907750</td>\n",
       "      <td>0.890694</td>\n",
       "      <td>0.016407</td>\n",
       "      <td>0.909997</td>\n",
       "      <td>0.990196</td>\n",
       "      <td>0.002135</td>\n",
       "      <td>0.987980</td>\n",
       "      <td>0.009372</td>\n",
       "      <td>0.984732</td>\n",
       "      <td>0.000000</td>\n",
       "      <td>0.948683</td>\n",
       "      <td>0.000000</td>\n",
       "    </tr>\n",
       "    <tr>\n",
       "      <th>shuffle_rank</th>\n",
       "      <td>0.913167</td>\n",
       "      <td>0.898520</td>\n",
       "      <td>0.914170</td>\n",
       "      <td>0.911361</td>\n",
       "      <td>0.865011</td>\n",
       "      <td>0.020789</td>\n",
       "      <td>0.900446</td>\n",
       "      <td>0.988384</td>\n",
       "      <td>0.002700</td>\n",
       "      <td>0.984745</td>\n",
       "      <td>0.008036</td>\n",
       "      <td>0.984732</td>\n",
       "      <td>0.000000</td>\n",
       "      <td>0.948683</td>\n",
       "      <td>0.000000</td>\n",
       "    </tr>\n",
       "    <tr>\n",
       "      <th>dfs_rank:1</th>\n",
       "      <td>0.891697</td>\n",
       "      <td>0.886882</td>\n",
       "      <td>0.918785</td>\n",
       "      <td>0.902332</td>\n",
       "      <td>0.858790</td>\n",
       "      <td>0.022096</td>\n",
       "      <td>0.891697</td>\n",
       "      <td>0.958196</td>\n",
       "      <td>0.005484</td>\n",
       "      <td>0.916820</td>\n",
       "      <td>0.008274</td>\n",
       "      <td>0.802557</td>\n",
       "      <td>0.044721</td>\n",
       "      <td>0.453260</td>\n",
       "      <td>0.265100</td>\n",
       "    </tr>\n",
       "    <tr>\n",
       "      <th>marginal_rank</th>\n",
       "      <td>-0.014046</td>\n",
       "      <td>-0.206270</td>\n",
       "      <td>0.047153</td>\n",
       "      <td>0.029295</td>\n",
       "      <td>-0.061801</td>\n",
       "      <td>0.101471</td>\n",
       "      <td>-0.041134</td>\n",
       "      <td>-0.099623</td>\n",
       "      <td>0.130844</td>\n",
       "      <td>-0.183292</td>\n",
       "      <td>0.104178</td>\n",
       "      <td>-0.448053</td>\n",
       "      <td>0.264804</td>\n",
       "      <td>0.105409</td>\n",
       "      <td>0.376386</td>\n",
       "    </tr>\n",
       "  </tbody>\n",
       "</table>\n",
       "</div>"
      ],
      "text/plain": [
       "                      0         1         2         3         4  std_corr  \\\n",
       "nn_rank:0.05   0.912164  0.898118  0.921996  0.903335  0.857988  0.024512   \n",
       "nn_rank:0.1    0.908753  0.893704  0.905743  0.905542  0.855781  0.022077   \n",
       "nn_rank:0.5    0.910960  0.882267  0.902332  0.905141  0.866215  0.018635   \n",
       "nn_rank:1      0.916578  0.907348  0.921996  0.916177  0.881865  0.015942   \n",
       "rf_rank        0.921394  0.912565  0.896914  0.886681  0.904138  0.013468   \n",
       "enet_rank     -0.077771 -0.307399  0.021173  0.027201 -0.028997  0.137669   \n",
       "lasso_rank    -0.077771 -0.307399  0.021173  0.027201 -0.028396  0.137717   \n",
       "zero_rank      0.923200  0.898520  0.929821  0.907750  0.890694  0.016407   \n",
       "shuffle_rank   0.913167  0.898520  0.914170  0.911361  0.865011  0.020789   \n",
       "dfs_rank:1     0.891697  0.886882  0.918785  0.902332  0.858790  0.022096   \n",
       "marginal_rank -0.014046 -0.206270  0.047153  0.029295 -0.061801  0.101471   \n",
       "\n",
       "               mean_corr   20_corr  20_corr_std   15_corr  15_corr_std  \\\n",
       "nn_rank:0.05    0.898720  0.988988     0.005484  0.983667     0.014012   \n",
       "nn_rank:0.1     0.893905  0.989592     0.003936  0.987980     0.012858   \n",
       "nn_rank:0.5     0.893383  0.987781     0.005400  0.981870     0.013423   \n",
       "nn_rank:1       0.908793  0.989592     0.003936  0.986902     0.005146   \n",
       "rf_rank         0.904338  0.982950     0.011614  0.969651     0.022140   \n",
       "enet_rank      -0.073159 -0.129792     0.141633 -0.190127     0.100533   \n",
       "lasso_rank     -0.073038 -0.128895     0.141719 -0.190127     0.100533   \n",
       "zero_rank       0.909997  0.990196     0.002135  0.987980     0.009372   \n",
       "shuffle_rank    0.900446  0.988384     0.002700  0.984745     0.008036   \n",
       "dfs_rank:1      0.891697  0.958196     0.005484  0.916820     0.008274   \n",
       "marginal_rank  -0.041134 -0.099623     0.130844 -0.183292     0.104178   \n",
       "\n",
       "                10_corr  10_corr_std    5_corr  5_corr_std  \n",
       "nn_rank:0.05   0.984732     0.000000  0.948683    0.000000  \n",
       "nn_rank:0.1    0.984732     0.000000  0.948683    0.000000  \n",
       "nn_rank:0.5    0.984732     0.000000  0.948683    0.000000  \n",
       "nn_rank:1      0.984732     0.000000  0.948683    0.000000  \n",
       "rf_rank        0.925648     0.056676  0.885438    0.141421  \n",
       "enet_rank     -0.403980     0.216432  0.189737    0.386580  \n",
       "lasso_rank    -0.403980     0.216432  0.189737    0.386580  \n",
       "zero_rank      0.984732     0.000000  0.948683    0.000000  \n",
       "shuffle_rank   0.984732     0.000000  0.948683    0.000000  \n",
       "dfs_rank:1     0.802557     0.044721  0.453260    0.265100  \n",
       "marginal_rank -0.448053     0.264804  0.105409    0.376386  "
      ]
     },
     "execution_count": 333,
     "metadata": {},
     "output_type": "execute_result"
    }
   ],
   "source": [
    "df_40"
   ]
  },
  {
   "cell_type": "code",
   "execution_count": 261,
   "metadata": {},
   "outputs": [
    {
     "data": {
      "text/plain": [
       "<matplotlib.legend.Legend at 0x7fa1a227e1d0>"
      ]
     },
     "execution_count": 261,
     "metadata": {},
     "output_type": "execute_result"
    },
    {
     "data": {
      "image/png": "[encoded data removed]",
      "text/plain": [
       "<matplotlib.figure.Figure at 0x7fa1a229f898>"
      ]
     },
     "metadata": {},
     "output_type": "display_data"
    }
   ],
   "source": [
    "from scipy.stats import rankdata\n",
    "\n",
    "methods = ['zero_rank', 'nn_rank:1', 'rf_rank', 'dfs_rank:1']\n",
    "for method in methods:\n",
    "    _, ranks = torch.load('../results/InteractionSimulation/0111-%s-nn_test_zero.pth' % method)\n",
    "    plt.plot(rankdata(ranks[0]), label=method)\n",
    "plt.plot(gnd_truth_rank + 20, label='ground truth')\n",
    "plt.legend()"
   ]
  },
  {
   "cell_type": "code",
   "execution_count": 4,
   "metadata": {
    "scrolled": false
   },
   "outputs": [
    {
     "name": "stdout",
     "output_type": "stream",
     "text": [
      "smallest length of dictionary: 0 with length 5\n"
     ]
    },
    {
     "name": "stderr",
     "output_type": "stream",
     "text": [
      "/home/zzzace2000/anaconda2/envs/py36/lib/python3.6/site-packages/seaborn/timeseries.py:183: UserWarning: The tsplot function is deprecated and will be removed or replaced (in a substantially altered version) in a future release.\n",
      "  warnings.warn(msg, UserWarning)\n"
     ]
    },
    {
     "data": {
      "text/plain": [
       "Text(0.5,0,'')"
      ]
     },
     "execution_count": 4,
     "metadata": {},
     "output_type": "execute_result"
    },
    {
     "data": {
      "image/png": "[encoded data removed]",
      "text/plain": [
       "<matplotlib.figure.Figure at 0x7f24185ebdd8>"
      ]
     },
     "metadata": {},
     "output_type": "display_data"
    }
   ],
   "source": [
    "the_container = sum_all_container_by_filenames([\n",
    "    \"0111-nn_rank:1-nn_test_zero.pth\",\n",
    "    \"0111-rf_rank-nn_test_zero.pth\",\n",
    "    \"0111-zero_rank-nn_test_zero.pth\",\n",
    "    \"0111-shuffle_rank-nn_test_zero.pth\",\n",
    "    \"0111-marginal_rank-nn_test_zero.pth\",\n",
    "    \"0111-dfs_rank:1-nn_test_zero.pth\",\n",
    "    \"0111-random_rank-nn_test_zero.pth\",\n",
    "    \"0111-enet_rank-nn_test_zero.pth\",\n",
    "    \"0111-lasso_rank-nn_test_zero.pth\",\n",
    "], dataset='InteractionSimulation')\n",
    "\n",
    "the_container.set_names('Test MSE', 'Number of features', 'Methods')\n",
    "fig, ax = plt.subplots(figsize=(6, 4.5))\n",
    "fig, ax = plot_figs(the_container, 'nn_test_zero_loss', ax=ax, fig=fig)\n",
    "# ax.get_legend().set_visible(False)\n",
    "plt.legend(bbox_to_anchor=(1.1, 1.05))\n",
    "# ax.set_xlim(0, 90)\n",
    "ax.set_xlabel('')\n",
    "# fig.savefig('YearMSD_zero.eps', format='eps', dpi=300, bbox_inches='tight')\n",
    "# fig.savefig('legend.eps', format='eps', dpi=300, bbox_inches='tight')"
   ]
  },
  {
   "cell_type": "code",
   "execution_count": 5,
   "metadata": {},
   "outputs": [
    {
     "name": "stdout",
     "output_type": "stream",
     "text": [
      "smallest length of dictionary: 0 with length 5\n"
     ]
    },
    {
     "name": "stderr",
     "output_type": "stream",
     "text": [
      "/home/zzzace2000/anaconda2/envs/py36/lib/python3.6/site-packages/seaborn/timeseries.py:183: UserWarning: The tsplot function is deprecated and will be removed or replaced (in a substantially altered version) in a future release.\n",
      "  warnings.warn(msg, UserWarning)\n"
     ]
    },
    {
     "data": {
      "text/plain": [
       "Text(0.5,0,'')"
      ]
     },
     "execution_count": 5,
     "metadata": {},
     "output_type": "execute_result"
    },
    {
     "data": {
      "image/png": "[encoded data removed]",
      "text/plain": [
       "<matplotlib.figure.Figure at 0x7f24181795f8>"
      ]
     },
     "metadata": {},
     "output_type": "display_data"
    }
   ],
   "source": [
    "the_container = sum_all_container_by_filenames([\n",
    "    \"0111-nn_rank:0.5-nn_test_zero.pth\",\n",
    "    \"0111-rf_rank-nn_test_zero.pth\",\n",
    "    \"0111-zero_rank-nn_test_zero.pth\",\n",
    "    \"0111-shuffle_rank-nn_test_zero.pth\",\n",
    "    \"0111-marginal_rank-nn_test_zero.pth\",\n",
    "    \"0111-dfs_rank:0.5-nn_test_zero.pth\",\n",
    "    \"0111-random_rank-nn_test_zero.pth\",\n",
    "    \"0111-enet_rank-nn_test_zero.pth\",\n",
    "    \"0111-lasso_rank-nn_test_zero.pth\",\n",
    "], dataset='NoInteractionSimulation')\n",
    "\n",
    "the_container.set_names('Test MSE', 'Number of features', 'Methods')\n",
    "fig, ax = plt.subplots(figsize=(6, 4.5))\n",
    "fig, ax = plot_figs(the_container, 'nn_test_zero_loss', ax=ax, fig=fig)\n",
    "# ax.get_legend().set_visible(False)\n",
    "plt.legend(bbox_to_anchor=(1.1, 1.05))\n",
    "# ax.set_xlim(0, 90)\n",
    "ax.set_xlabel('')\n",
    "# fig.savefig('YearMSD_zero.eps', format='eps', dpi=300, bbox_inches='tight')\n",
    "# fig.savefig('legend.eps', format='eps', dpi=300, bbox_inches='tight')"
   ]
  },
  {
   "cell_type": "code",
   "execution_count": 11,
   "metadata": {},
   "outputs": [
    {
     "name": "stdout",
     "output_type": "stream",
     "text": [
      "smallest length of dictionary: 0 with length 5\n"
     ]
    },
    {
     "name": "stderr",
     "output_type": "stream",
     "text": [
      "/home/zzzace2000/anaconda2/envs/py36/lib/python3.6/site-packages/seaborn/timeseries.py:183: UserWarning: The tsplot function is deprecated and will be removed or replaced (in a substantially altered version) in a future release.\n",
      "  warnings.warn(msg, UserWarning)\n"
     ]
    },
    {
     "data": {
      "text/plain": [
       "Text(0.5,0,'')"
      ]
     },
     "execution_count": 11,
     "metadata": {},
     "output_type": "execute_result"
    },
    {
     "data": {
      "image/png": "[encoded data removed]",
      "text/plain": [
       "<matplotlib.figure.Figure at 0x7fa1b5c04048>"
      ]
     },
     "metadata": {},
     "output_type": "display_data"
    }
   ],
   "source": [
    "the_container = sum_all_container_by_filenames([\n",
    "    \"0111-nn_rank:0.5-nn_test_retrain.pth\",\n",
    "    \"0111-rf_rank-nn_test_retrain.pth\",\n",
    "    \"0111-zero_rank-nn_test_retrain.pth\",\n",
    "    \"0111-shuffle_rank-nn_test_retrain.pth\",\n",
    "    \"0111-marginal_rank-nn_test_retrain.pth\",\n",
    "    \"0111-dfs_rank:0.5-nn_test_retrain.pth\",\n",
    "    \"0111-random_rank-nn_test_retrain.pth\",\n",
    "    \"0111-enet_rank-nn_test_retrain.pth\",\n",
    "    \"0111-lasso_rank-nn_test_retrain.pth\",\n",
    "], dataset='NoInteractionSimulation')\n",
    "\n",
    "the_container.set_names('Test MSE', 'Number of features', 'Methods')\n",
    "fig, ax = plt.subplots(figsize=(6, 4.5))\n",
    "fig, ax = plot_figs(the_container, 'nn_test_retrain_loss', ax=ax, fig=fig)\n",
    "# ax.get_legend().set_visible(False)\n",
    "plt.legend(bbox_to_anchor=(1.1, 1.05))\n",
    "# ax.set_xlim(0, 90)\n",
    "ax.set_xlabel('')\n",
    "# fig.savefig('YearMSD_retrain.eps', format='eps', dpi=300, bbox_inches='tight')\n",
    "# fig.savefig('legend.eps', format='eps', dpi=300, bbox_inches='tight')"
   ]
  },
  {
   "cell_type": "code",
   "execution_count": null,
   "metadata": {
    "collapsed": true
   },
   "outputs": [],
   "source": []
  },
  {
   "cell_type": "code",
   "execution_count": 31,
   "metadata": {},
   "outputs": [
    {
     "name": "stdout",
     "output_type": "stream",
     "text": [
      "smallest length of dictionary: 0 with length 5\n"
     ]
    },
    {
     "name": "stderr",
     "output_type": "stream",
     "text": [
      "/home/zzzace2000/anaconda2/envs/py36/lib/python3.6/site-packages/seaborn/timeseries.py:183: UserWarning: The tsplot function is deprecated and will be removed or replaced (in a substantially altered version) in a future release.\n",
      "  warnings.warn(msg, UserWarning)\n"
     ]
    },
    {
     "data": {
      "text/plain": [
       "Text(0.5,0,'')"
      ]
     },
     "execution_count": 31,
     "metadata": {},
     "output_type": "execute_result"
    },
    {
     "data": {
      "image/png": "[encoded data removed]",
      "text/plain": [
       "<matplotlib.figure.Figure at 0x7fa1b5987470>"
      ]
     },
     "metadata": {},
     "output_type": "display_data"
    }
   ],
   "source": [
    "the_container = sum_all_container_by_filenames([\n",
    "    \"0111-nn_rank:0.5-nn_test_zero.pth\",\n",
    "    \"0111-rf_rank-nn_test_zero.pth\",\n",
    "    \"0111-zero_rank-nn_test_zero.pth\",\n",
    "    \"0111-shuffle_rank-nn_test_zero.pth\",\n",
    "    \"0111-marginal_rank-nn_test_zero.pth\",\n",
    "    \"0111-dfs_rank:0.1-nn_test_zero.pth\",\n",
    "    \"0111-random_rank-nn_test_zero.pth\",\n",
    "    \"0111-enet_rank-nn_test_zero.pth\",\n",
    "    \"0111-lasso_rank-nn_test_zero.pth\",\n",
    "], dataset='MoreInteractionSimulation')\n",
    "\n",
    "the_container.set_names('Test MSE', 'Number of features', 'Methods')\n",
    "fig, ax = plt.subplots(figsize=(6, 4.5))\n",
    "fig, ax = plot_figs(the_container, 'nn_test_zero_loss', ax=ax, fig=fig)\n",
    "# ax.get_legend().set_visible(False)\n",
    "plt.legend(bbox_to_anchor=(1.1, 1.05))\n",
    "# ax.set_xlim(0, 90)\n",
    "ax.set_xlabel('')\n",
    "# fig.savefig('YearMSD_zero.eps', format='eps', dpi=300, bbox_inches='tight')\n",
    "# fig.savefig('legend.eps', format='eps', dpi=300, bbox_inches='tight')"
   ]
  },
  {
   "cell_type": "code",
   "execution_count": 7,
   "metadata": {},
   "outputs": [
    {
     "name": "stdout",
     "output_type": "stream",
     "text": [
      "0.239401838301\n",
      "0.232974943313\n",
      "0.298047255066\n",
      "0.256272437645\n",
      "0.281176655723\n"
     ]
    }
   ],
   "source": [
    "for i in range(5):\n",
    "    print(spearmanr(gnd_truth_rank[:20], ranks[i][:20]).correlation)"
   ]
  },
  {
   "cell_type": "code",
   "execution_count": null,
   "metadata": {
    "collapsed": true
   },
   "outputs": [],
   "source": []
  }
 ],
 "metadata": {
  "kernelspec": {
   "display_name": "py36",
   "language": "python",
   "name": "py36"
  },
  "language_info": {
   "codemirror_mode": {
    "name": "ipython",
    "version": 3
   },
   "file_extension": ".py",
   "mimetype": "text/x-python",
   "name": "python",
   "nbconvert_exporter": "python",
   "pygments_lexer": "ipython3",
   "version": "3.6.3"
  }
 },
 "nbformat": 4,
 "nbformat_minor": 2
}
